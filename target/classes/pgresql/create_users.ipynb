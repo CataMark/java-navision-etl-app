{
    "cells": [
        {
            "cell_type": "code",
            "execution_count": null,
            "metadata": {
                "azdata_cell_guid": "33372b31-c2cc-44da-9b51-ed01eab13cf6"
            },
            "outputs": [],
            "source": [
                "/* code block start */\n",
                "do $$\n",
                "declare\n",
                "    _dbname text := current_database();\n",
                "begin\n",
                "    if _dbname != 'any' then\n",
                "        raise exception 'not in \"any\" database';\n",
                "    end if;"
            ]
        },
        {
            "cell_type": "code",
            "execution_count": null,
            "metadata": {
                "azdata_cell_guid": "70101900-2fde-4335-b5d7-b291d524adc9"
            },
            "outputs": [],
            "source": [
                "/* 0000.02 */\n",
                "raise notice 'creating user \"navetl\"';\n",
                "if exists (select * from pg_catalog.pg_roles as a where a.rolname = 'navetl') then\n",
                "    raise notice '\"navetl\" user already exists';\n",
                "else\n",
                "    create user navetl with encrypted password '<removed>';\n",
                "    raise notice '\"navetl\" user created';\n",
                "end if;\n",
                "\n",
                "raise notice 'update rigths for user \"navetl\"';\n",
                "grant connect on database any to navetl;\n",
                "grant usage on schema nav to navetl;\n",
                "grant select, insert, update, delete, truncate, references, trigger on all tables in schema nav to navetl;\n",
                "grant execute on all functions in schema nav to navetl;\n",
                "grant usage, select, update on all sequences in schema nav to navetl;\n",
                "alter default privileges for user navetl in schema nav grant select, insert, update, delete, truncate, references, trigger on tables to navetl;\n",
                "alter default privileges for user navetl in schema nav grant execute on functions to navetl;\n",
                "alter default privileges for user navetl in schema nav grant usage, select, update on sequences to navetl;\n",
                "alter default privileges for user navetl in schema nav grant usage on types to navetl;\n",
                "raise notice '************************************';"
            ]
        },
        {
            "cell_type": "code",
            "execution_count": null,
            "metadata": {
                "azdata_cell_guid": "946f549d-8c34-4710-811b-cba5fceafd94"
            },
            "outputs": [],
            "source": [
                "/* code block ending*/\n",
                "end;\n",
                "$$ language plpgsql;"
            ]
        }
    ],
    "metadata": {
        "kernelspec": {
            "display_name": "SQL",
            "language": "sql",
            "name": "SQL"
        },
        "language_info": {
            "name": "sql",
            "version": ""
        }
    },
    "nbformat": 4,
    "nbformat_minor": 2
}
